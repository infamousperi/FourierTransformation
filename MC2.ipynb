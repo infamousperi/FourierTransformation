{
 "cells": [
  {
   "cell_type": "markdown",
   "source": [
    "## Aufgabe 1: Fourier-Approximation in numpy\n",
    "\n",
    "### (a) Implementierung der k-ten Fourier-Komponente\n",
    "Implementieren Sie mit numpy eine Methode zur Berechnung der k-ten Fourier-Komponente einer Funktion, gegeben durch arrays `x` und `y`, mithilfe der Trapezregel (`np.trapz`)."
   ],
   "metadata": {
    "collapsed": false
   },
   "id": "f4b3bfdd9a16efb2"
  },
  {
   "cell_type": "code",
   "execution_count": null,
   "outputs": [],
   "source": [],
   "metadata": {
    "collapsed": false,
    "ExecuteTime": {
     "end_time": "2024-05-16T13:24:46.344524200Z",
     "start_time": "2024-05-16T13:24:46.304880500Z"
    }
   },
   "id": "d232b9e419891be0"
  },
  {
   "cell_type": "markdown",
   "source": [
    "### (b) Fourier-Approximation\n",
    "Implementieren Sie mit numpy eine Methode zur Berechnung der Fourier-Approximation `fapp` mit einer gegebenen Anzahl (2m + 1) von Fourier-Komponenten."
   ],
   "metadata": {
    "collapsed": false
   },
   "id": "b26bb99f9ff6d20f"
  },
  {
   "cell_type": "code",
   "execution_count": null,
   "outputs": [],
   "source": [],
   "metadata": {
    "collapsed": false,
    "ExecuteTime": {
     "end_time": "2024-05-16T13:24:46.344524200Z",
     "start_time": "2024-05-16T13:24:46.310837100Z"
    }
   },
   "id": "326d3031a55caa24"
  },
  {
   "cell_type": "markdown",
   "source": [
    "### (c) Näherung der Funktion f1(x)\n",
    "Nähern Sie die Funktion \\( f_1(x) = \\frac{1}{e^x + e^{-x}} \\) auf dem Intervall \\([-3, 3]\\) (Auflösung: N = 600 Schritte) mit verschiedenen Anzahlen von Komponenten (2m + 1). Plotten Sie den Vergleich zur Originalfunktion `f`."
   ],
   "metadata": {
    "collapsed": false
   },
   "id": "ec729b7116d92000"
  },
  {
   "cell_type": "code",
   "execution_count": null,
   "outputs": [],
   "source": [],
   "metadata": {
    "collapsed": false,
    "ExecuteTime": {
     "end_time": "2024-05-16T13:24:46.345528300Z",
     "start_time": "2024-05-16T13:24:46.317467Z"
    }
   },
   "id": "293638da977b619c"
  },
  {
   "cell_type": "markdown",
   "source": [
    "### (d) Bestimmung der Anzahl der Fourier-Komponenten\n",
    "Bestimmen Sie die Anzahl der Fourier-Komponenten, die benötigt werden, um eine Approximation mit höchstens 0,1% relativen Fehler zu erhalten."
   ],
   "metadata": {
    "collapsed": false
   },
   "id": "3a26a18c8248108e"
  },
  {
   "cell_type": "code",
   "execution_count": null,
   "outputs": [],
   "source": [],
   "metadata": {
    "collapsed": false,
    "ExecuteTime": {
     "end_time": "2024-05-16T13:24:46.347031400Z",
     "start_time": "2024-05-16T13:24:46.318865500Z"
    }
   },
   "id": "a672c4196b6c8a19"
  },
  {
   "cell_type": "markdown",
   "source": [
    "### (e) Näherung weiterer Funktionen\n",
    "Versuchen Sie die Funktionen \\( f_2(x) = e^x \\) und \\( f_3(x) = e^{|x|} \\) auf dem Intervall \\([-3, 3]\\) (Auflösung: N = 600 Schritte) mit einem 0,1%igen Approximationsfehler anzunähern. Beschreiben und erklären Sie die Unterschiede."
   ],
   "metadata": {
    "collapsed": false
   },
   "id": "f280dc7efd80c593"
  },
  {
   "cell_type": "code",
   "execution_count": null,
   "outputs": [],
   "source": [],
   "metadata": {
    "collapsed": false,
    "ExecuteTime": {
     "end_time": "2024-05-16T13:24:46.347031400Z",
     "start_time": "2024-05-16T13:24:46.321683300Z"
    }
   },
   "id": "35a5262577283bdf"
  },
  {
   "cell_type": "markdown",
   "source": [
    "## Aufgabe 2: Fourier-Analyse von Sonnenfleckendaten\n",
    "\n",
    "### (a) Power-Spektrum und Periodizität\n",
    "Plotten Sie das Power-Spektrum und finden Sie die dominante Periodizität der Schwingung. Damit erhalten Sie eine Abschätzung auf die Dauer des Sonnenzyklus."
   ],
   "metadata": {
    "collapsed": false
   },
   "id": "9cdc70b9df3aa2d"
  },
  {
   "cell_type": "code",
   "execution_count": null,
   "outputs": [],
   "source": [],
   "metadata": {
    "collapsed": false,
    "ExecuteTime": {
     "end_time": "2024-05-16T13:24:46.356864200Z",
     "start_time": "2024-05-16T13:24:46.323683700Z"
    }
   },
   "id": "b8e8acbbdff4514"
  },
  {
   "cell_type": "markdown",
   "source": [
    "### (b) Weitere Perioden in den Sonnenfleck-Daten\n",
    "Können Sie weitere Perioden in den Sonnenfleck-Daten mithilfe des Fourier-Spektrums finden?"
   ],
   "metadata": {
    "collapsed": false
   },
   "id": "4edd1dab58348c0b"
  },
  {
   "cell_type": "code",
   "execution_count": null,
   "outputs": [],
   "source": [],
   "metadata": {
    "collapsed": false,
    "ExecuteTime": {
     "end_time": "2024-05-16T13:24:46.357865900Z",
     "start_time": "2024-05-16T13:24:46.325190300Z"
    }
   },
   "id": "63b294f10e18ffb3"
  },
  {
   "cell_type": "markdown",
   "source": [
    "### (c) Komponenten entfernen und Rücktransformation\n",
    "Entfernen Sie einige Komponenten im Fourier-Spektrum und führen dann eine Rücktransformation durch:\n",
    "- Größten Komponenten entfernen (k > 20)\n",
    "- Kleinsten Komponenten entfernen (k < 5)\n",
    "Beschreiben und erklären Sie die Ergebnisse."
   ],
   "metadata": {
    "collapsed": false
   },
   "id": "63dada9867ebec04"
  },
  {
   "cell_type": "code",
   "execution_count": null,
   "outputs": [],
   "source": [],
   "metadata": {
    "collapsed": false,
    "ExecuteTime": {
     "end_time": "2024-05-16T13:24:46.357865900Z",
     "start_time": "2024-05-16T13:24:46.328369900Z"
    }
   },
   "id": "b38ee0f5f834d422"
  },
  {
   "cell_type": "markdown",
   "source": [
    "### (d) Vergleich der Ergebnisse\n",
    "Vergleichen Sie die Ergebnisse mit denen aus Aufgabe 1. Beschreiben und erklären Sie Unterschiede in den Fourier-Koeffizienten."
   ],
   "metadata": {
    "collapsed": false
   },
   "id": "7abbbe317a8aef60"
  },
  {
   "cell_type": "code",
   "execution_count": null,
   "outputs": [],
   "source": [],
   "metadata": {
    "collapsed": false,
    "ExecuteTime": {
     "end_time": "2024-05-16T13:24:46.358863400Z",
     "start_time": "2024-05-16T13:24:46.330337Z"
    }
   },
   "id": "6437cc2d816dac21"
  },
  {
   "cell_type": "markdown",
   "source": [
    "## Aufgabe 3: Analyse eines Musikstücks\n",
    "\n",
    "### (a) Wellenform und Amplitudenspektrum\n",
    "Plotten Sie die Wellenform des Klangs (waveplot) - einmal vollständig und einmal für einen kleinen Zeitbereich, sodass die Wellenform deutlich wird - sowie das Amplitudenspektrum. Wieso ist das Amplitudenspektrum symmetrisch bezüglich des Vorzeichens?"
   ],
   "metadata": {
    "collapsed": false
   },
   "id": "b599a3a57e555696"
  },
  {
   "cell_type": "code",
   "execution_count": null,
   "outputs": [],
   "source": [],
   "metadata": {
    "collapsed": false,
    "ExecuteTime": {
     "end_time": "2024-05-16T13:24:46.359878900Z",
     "start_time": "2024-05-16T13:24:46.331843400Z"
    }
   },
   "id": "eaa03e1c951dcf26"
  },
  {
   "cell_type": "markdown",
   "source": [
    "### (b) Trennung des Sound-Signals\n",
    "Trennen Sie das Sound-Signal in einen Teil oberhalb und unterhalb von 2 kHz in Frequenzen. Identifizieren Sie jeweils die Top 5 Frequenzen in diesen Frequenzbereichen."
   ],
   "metadata": {
    "collapsed": false
   },
   "id": "310b89f96d49e4ec"
  },
  {
   "cell_type": "code",
   "execution_count": null,
   "outputs": [],
   "source": [],
   "metadata": {
    "collapsed": false,
    "ExecuteTime": {
     "end_time": "2024-05-16T13:24:46.398939400Z",
     "start_time": "2024-05-16T13:24:46.334315200Z"
    }
   },
   "id": "a44d59cf10d00b49"
  },
  {
   "cell_type": "markdown",
   "source": [
    "### (c) Rekonstruktion der gefilterten Signale\n",
    "Berechnen Sie aus diesen beiden Teilen jeweils eine Rekonstruktion. Berechnen Sie den Fehler der Rekonstruktion wie in Aufgabe 1 für die gefilterten Signale und schreiben Sie die gefilterten rekonstruierten Daten in eine wav-Datei. Beschreiben und erklären Sie das Ergebnis."
   ],
   "metadata": {
    "collapsed": false
   },
   "id": "4d3afddbaf73996d"
  },
  {
   "cell_type": "code",
   "execution_count": null,
   "outputs": [],
   "source": [],
   "metadata": {
    "collapsed": false,
    "ExecuteTime": {
     "end_time": "2024-05-16T13:24:46.398939400Z",
     "start_time": "2024-05-16T13:24:46.336458100Z"
    }
   },
   "id": "4765c60c3c9cd9b7"
  },
  {
   "cell_type": "markdown",
   "source": [
    "## Aufgabe 4: Analyse einer Bilddatei\n",
    "\n",
    "### (a) 2D-Verteilung der Fourier-Komponenten\n",
    "Plotten Sie die 2D-Verteilung der absoluten Werte der Fourier-Komponenten, sodass die kleinsten k-Werte in der Mitte liegen. Erklären Sie die Natur der Verteilung."
   ],
   "metadata": {
    "collapsed": false
   },
   "id": "faf36fe9b1cab018"
  },
  {
   "cell_type": "code",
   "execution_count": null,
   "outputs": [],
   "source": [],
   "metadata": {
    "collapsed": false,
    "ExecuteTime": {
     "end_time": "2024-05-16T13:24:46.399938400Z",
     "start_time": "2024-05-16T13:24:46.338617900Z"
    }
   },
   "id": "f94a27c82ac9ce9c"
  },
  {
   "cell_type": "markdown",
   "source": [
    "### (b) Entfernen der Fourier-Komponenten\n",
    "Entfernen Sie je die Fourier-Komponenten mit absoluter Amplitude unter dem Schwellenwert 0.001%, 0.01%, 0.1%, 1% und 10% der maximalen Amplitude. Führen Sie eine inverse Fourier-Transformation durch und stellen Sie die gefilterten Fourierkomponenten sowie die resultierenden Bilder dar. Beschreiben und erklären Sie die Unterschiede."
   ],
   "metadata": {
    "collapsed": false
   },
   "id": "eb25dfb2595ee96"
  },
  {
   "cell_type": "code",
   "execution_count": null,
   "outputs": [],
   "source": [],
   "metadata": {
    "collapsed": false,
    "ExecuteTime": {
     "end_time": "2024-05-16T13:24:46.400939500Z",
     "start_time": "2024-05-16T13:24:46.341051200Z"
    }
   },
   "id": "d7a94b38413f5fa"
  },
  {
   "cell_type": "markdown",
   "source": [
    "### (c) Fehlerberechnung und Kompression\n",
    "Berechnen Sie den Fehler (Aufgabe 1) zwischen rekonstruiertem und Originalbild. Wie weit können die Daten komprimiert werden, ohne einen Fehler von höchstens 1% zu überschreiten?"
   ],
   "metadata": {
    "collapsed": false
   },
   "id": "d575867ba352a34d"
  },
  {
   "cell_type": "code",
   "execution_count": null,
   "outputs": [],
   "source": [],
   "metadata": {
    "collapsed": false,
    "ExecuteTime": {
     "end_time": "2024-05-16T13:24:46.400939500Z",
     "start_time": "2024-05-16T13:24:46.343518400Z"
    }
   },
   "id": "96441d9ad955cb99"
  }
 ],
 "metadata": {
  "kernelspec": {
   "display_name": "Python 3",
   "language": "python",
   "name": "python3"
  },
  "language_info": {
   "codemirror_mode": {
    "name": "ipython",
    "version": 2
   },
   "file_extension": ".py",
   "mimetype": "text/x-python",
   "name": "python",
   "nbconvert_exporter": "python",
   "pygments_lexer": "ipython2",
   "version": "2.7.6"
  }
 },
 "nbformat": 4,
 "nbformat_minor": 5
}
